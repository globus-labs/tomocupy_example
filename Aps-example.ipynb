{
 "cells": [
  {
   "cell_type": "markdown",
   "id": "0d3813a6",
   "metadata": {},
   "source": [
    "<img src=\"img/automation_using_flows_header.png\">\n",
    "\n",
    "\n",
    "# APS/CNM Example Reconstruction\n",
    "\n",
    "This notebook shows how [Globus Flows](https://www.globus.org/globus-flows-service) can be used to perform tomogragphy reconstructions using [Tomocupy](https://tomocupy.readthedocs.io/en/latest/).\n",
    "\n",
    "Globus Flows is a reliable and secure platform for orchestrating and performing research data management and analysis tasks. A flow is often needed to manage data coming from instruments, e.g., image files can be moved from local storage attached to a microscope to a high-performance storage system where they may be accessed by all members of the research project.\n",
    "\n",
    "In this notebook we show how the Flows web app can be used to launch tomocupy tasks at ALCF. We then walk through the process of creating a simple flow and describe potential extensions to make it applicable in real use cases.\n",
    "\n",
    "More examples of creating and running flows can be found on our [demo instance](https://jupyter.demo.globus.org/hub/).\n"
   ]
  },
  {
   "cell_type": "markdown",
   "id": "c2028f76",
   "metadata": {},
   "source": [
    "**The flow is available here: https://app.globus.org/flows/337bc825-a81e-477e-aa6d-1d0f75e4928d**\n",
    "\n",
    "This example simply includes two steps:\n",
    "1. Transfer input data with Globus Transfer\n",
    "2. Run Tomocupy via Globus Compute\n",
    "\n",
    "This can easily be extended to include further steps to return data, perform postprocessing, or publish and catalog results.\n",
    "\n",
    "\n",
    "### Auth\n",
    "The flow manages authentication by seamlessly passing tokens between the services. When the flow is started it first acquires tokens for each service used within the flow to perform actions on the user's behalf. Provided the user has access to the Globus Transfer and Compute endpoints the flow will be able to move data and perform analysis as the user.\n",
    "\n",
    "While this example notebook employs user tokens to run, production deployments can be automated using an ALCF Service account and Globus Client credential. A service account provides access to ALCF for a specific resource (e.g., a beamline). Following this model, a Globus Compute endpoint can be configured on behalf of the service account and the flow can be granted access. This allows flows to be launched without a human in the loop, making it ideal for automated analysis and publication pipelines."
   ]
  },
  {
   "cell_type": "markdown",
   "id": "0ca5d8f2",
   "metadata": {},
   "source": [
    "## Using the flow via GUI"
   ]
  },
  {
   "cell_type": "markdown",
   "id": "8d216f3f",
   "metadata": {},
   "source": [
    "The flow has been created with a JSON Schema input schema to define the required and optional parameters. This allows the Flows web app to automatically generate an input page to start the flow via a GUI. \n",
    "\n",
    "Here we walk through starting and monitoring the Tomocupy flow via the web app.\n",
    "\n",
    "### Step 1: Provide input.\n",
    "The flow requires source and destination information to transfer an input to the machine for analysis. The input page recognizes the input type as an endpoint and provides interactive search and browse capabilities to select input files.\n",
    "<img src=\"img/input1.png\">"
   ]
  },
  {
   "cell_type": "markdown",
   "id": "30baf78e",
   "metadata": {},
   "source": [
    "### Step 2: Specify reconstruction parameters\n",
    "Here we specify various inputs to pass to the Tomocupy step of the flow. These include the command, an enum of `recon` or `recon_steps`, reconstruction type, rotation, and nsino per chunk.\n",
    "\n",
    "The input schema restricts the values of these fields to specific values and types, only allowing the flow to be started when appropriate values are specified.\n",
    "\n",
    "Filename is used to reference the location of the file at ALCF. We note that this can be automatically determined when the ALCF project path is known ahead of time, e.g., when using a service account and allocation.\n",
    "\n",
    "\n",
    "<img src=\"img/input2.png\">"
   ]
  },
  {
   "cell_type": "markdown",
   "id": "07d5e761",
   "metadata": {},
   "source": [
    "### Step 3: Start and monitor the flow\n",
    "Once started the flow can be monitored through the web app. The events tab shows each step of the flow and provides details regarding the input and output of each action.\n",
    "\n",
    "Here you can see the input to the Tomocupy step of the flow, showing the input values that are passed into the function to execute.\n",
    "\n",
    "<img src=\"img/running.png\">"
   ]
  },
  {
   "cell_type": "markdown",
   "id": "1bc6b878",
   "metadata": {},
   "source": [
    "### Step 4: Review the result\n",
    "The result of the flow can be retrieved from the final step. Here we see a raw stdout dump from the execution of Tomocupy. The result could be processed and better formatted to use as input in subseqent flow steps.\n",
    "\n",
    "<img src=\"img/results.png\">"
   ]
  },
  {
   "cell_type": "markdown",
   "id": "fcb8ae33",
   "metadata": {},
   "source": [
    "## Creating the flow\n",
    "\n",
    "Here we explain how the flow is defined. Running these steps will register a flow of your own that you can then run.\n",
    "\n",
    "To run these steps you will need to install:\n",
    "\n",
    "`pip install -U globus_sdk`"
   ]
  },
  {
   "cell_type": "markdown",
   "id": "e9c8f539-487e-41ea-911a-7cd4d65a10ac",
   "metadata": {},
   "source": [
    "conda install -c conda-forge tomocupy"
   ]
  },
  {
   "cell_type": "markdown",
   "id": "3989f718",
   "metadata": {},
   "source": [
    "### Registering the flow.\n",
    "\n",
    "We first create a Globus FlowsClient to securely interact with the Flows service. This will prompt you to login and paste a token into the notebook."
   ]
  },
  {
   "cell_type": "code",
   "execution_count": 1,
   "id": "a29de715-5a27-4671-aaa2-0809f3fbf7ca",
   "metadata": {
    "metadata": {}
   },
   "outputs": [],
   "source": [
    "import os\n",
    "import time\n",
    "import globus_sdk\n",
    "\n",
    "from utils import get_flows_client, get_specific_flow_client\n",
    "\n",
    "# Tutorial client ID\n",
    "# We recommend replacing this with your own client for any production use-cases\n",
    "# Create your own at developers.globus.org\n",
    "CLIENT_ID = \"7ca21f4a-11de-4d97-8f84-cb66f7459981\""
   ]
  },
  {
   "cell_type": "code",
   "execution_count": 4,
   "id": "f72abbf6",
   "metadata": {},
   "outputs": [
    {
     "name": "stdout",
     "output_type": "stream",
     "text": [
      "Please go to this URL and login:\n",
      "\n",
      "https://auth.globus.org/v2/oauth2/authorize?client_id=7ca21f4a-11de-4d97-8f84-cb66f7459981&redirect_uri=https%3A%2F%2Fauth.globus.org%2Fv2%2Fweb%2Fauth-code&scope=https%3A%2F%2Fauth.globus.org%2Fscopes%2Feec9b274-0c81-4334-bdc2-54e90e689b9a%2Fmanage_flows+https%3A%2F%2Fauth.globus.org%2Fscopes%2Feec9b274-0c81-4334-bdc2-54e90e689b9a%2Frun_status&state=_default&response_type=code&code_challenge=kltMKiQCo0jVtQeA4Bb31EnEmPnAJofiJ0CWqZ1WwFA&code_challenge_method=S256&access_type=offline\n",
      "\n"
     ]
    },
    {
     "name": "stdin",
     "output_type": "stream",
     "text": [
      "Please enter the code here:  5lU9JowRBAIYRYlwmC9FMX1S5K2EzV\n"
     ]
    }
   ],
   "source": [
    "fc = get_flows_client(CLIENT_ID)"
   ]
  },
  {
   "cell_type": "markdown",
   "id": "3fb2fb6e",
   "metadata": {},
   "source": [
    "Specify the flow definition. This JSON definition is derived from the Amazon Step Functions language. States of the flow are chained together by specifying the `Next` field to construct a pipeline of operations. This flow consists of two steps:\n",
    "\n",
    "1. TransferFiles\n",
    "2. Tomocupy\n",
    "\n",
    "The first step, TransferFiles, uses the Globus Transfer action provider. The step is given a 300s walltime and the entire input is required to be passed into the step. Static values can be used here to simplify user input.\n",
    "\n",
    "The second step, Tomocupy, uses the Globus Compute action provider. Input is dymanically passed in as `kwargs`, which are then passed to the function to be executed. The step is given a 600s walltime and is the conclusion of the flow."
   ]
  },
  {
   "cell_type": "markdown",
   "id": "c35cecec",
   "metadata": {},
   "source": [
    "Specify the flow definition. This JSON definition is derived from the Amazon Step Functions language. States of the flow are chained together by specifying the `Next` field to construct a pipeline of operations. This flow consists of two steps:\n",
    "\n",
    "1. TransferFiles\n",
    "2. Tomocupy\n",
    "\n",
    "The first step, TransferFiles, uses the Globus Transfer action provider. The step is given a 300s walltime and the entire input is required to be passed into the step. Static values can be used here to simplify user input.\n",
    "\n",
    "The second step, Tomocupy, uses the Globus Compute action provider. Input is dymanically passed in as `kwargs`, which are then passed to the function to be executed. The step is given a 600s walltime and is the conclusion of the flow."
   ]
  },
  {
   "cell_type": "code",
   "execution_count": 5,
   "id": "7ee683c8",
   "metadata": {},
   "outputs": [],
   "source": [
    "flow_definition = {\n",
    "    \"Comment\": \"Transfer and run Tomocupy\",\n",
    "    \"StartAt\": \"TransferFiles\",\n",
    "    \"States\": {\n",
    "        \"TransferFiles\": {\n",
    "            \"Comment\": \"Transfer files\",\n",
    "            \"Type\": \"Action\",\n",
    "            \"ActionUrl\": \"https://actions.automate.globus.org/transfer/transfer\",\n",
    "            \"Parameters\": {\n",
    "                \"source_endpoint_id.$\": \"$.input.source.id\",\n",
    "                \"destination_endpoint_id.$\": \"$.input.destination.id\",\n",
    "                \"transfer_items\": [\n",
    "                    {\n",
    "                        \"source_path.$\": \"$.input.source.path\",\n",
    "                        \"destination_path.$\": \"$.input.destination.path\",\n",
    "                        \"recursive.$\": \"$.input.recursive_tx\"\n",
    "                    }\n",
    "                ]\n",
    "            },\n",
    "            \"ResultPath\": \"$.TransferFiles\",\n",
    "            \"WaitTime\": 300,\n",
    "            \"Next\": \"Tomocupy\"\n",
    "        },\n",
    "        \"Tomocupy\": {\n",
    "            \"Comment\": \"Tomocupy\",\n",
    "            \"Type\": \"Action\",\n",
    "            \"ActionUrl\": \"https://compute.actions.globus.org/fxap\",\n",
    "            \"Parameters\": {\n",
    "                \"endpoint.$\": \"$.input.compute_endpoint_id\",\n",
    "                \"function.$\": \"$.input.compute_function_id\",\n",
    "                \"kwargs.$\": \"$.input.compute_function_kwargs\"\n",
    "            },\n",
    "            \"ResultPath\": \"$.TomocupyOutput\",\n",
    "            \"WaitTime\": 600,\n",
    "            \"End\": True\n",
    "        }\n",
    "    }\n",
    "}"
   ]
  },
  {
   "cell_type": "markdown",
   "id": "deb85183",
   "metadata": {},
   "source": [
    "Register the flow. We leave the input schema blank and will later update it to support the web interface."
   ]
  },
  {
   "cell_type": "code",
   "execution_count": 6,
   "id": "bf90c1cf",
   "metadata": {},
   "outputs": [
    {
     "name": "stdout",
     "output_type": "stream",
     "text": [
      "{\n",
      "  \"id\": \"b92cca75-becf-476e-9cb4-9b7aac1b8eb2\",\n",
      "  \"title\": \"Tomocupy flow\",\n",
      "  \"subtitle\": \"\",\n",
      "  \"description\": \"\",\n",
      "  \"definition\": {\n",
      "    \"StartAt\": \"TransferFiles\",\n",
      "    \"States\": {\n",
      "      \"TransferFiles\": {\n",
      "        \"Parameters\": {\n",
      "          \"source_endpoint_id.$\": \"$.input.source.id\",\n",
      "          \"destination_endpoint_id.$\": \"$.input.destination.id\",\n",
      "          \"transfer_items\": [\n",
      "            {\n",
      "              \"source_path.$\": \"$.input.source.path\",\n",
      "              \"destination_path.$\": \"$.input.destination.path\",\n",
      "              \"recursive.$\": \"$.input.recursive_tx\"\n",
      "            }\n",
      "          ]\n",
      "        },\n",
      "        \"Type\": \"Action\",\n",
      "        \"Comment\": \"Transfer files\",\n",
      "        \"Next\": \"Tomocupy\",\n",
      "        \"ActionUrl\": \"https://actions.automate.globus.org/transfer/transfer\",\n",
      "        \"ResultPath\": \"$.TransferFiles\",\n",
      "        \"WaitTime\": 300\n",
      "      },\n",
      "      \"Tomocupy\": {\n",
      "        \"Parameters\": {\n",
      "          \"endpoint.$\": \"$.input.compute_endpoint_id\",\n",
      "          \"function.$\": \"$.input.compute_function_id\",\n",
      "          \"kwargs.$\": \"$.input.compute_function_kwargs\"\n",
      "        },\n",
      "        \"Type\": \"Action\",\n",
      "        \"Comment\": \"Tomocupy\",\n",
      "        \"End\": true,\n",
      "        \"ActionUrl\": \"https://compute.actions.globus.org/fxap\",\n",
      "        \"ResultPath\": \"$.TomocupyOutput\",\n",
      "        \"WaitTime\": 600\n",
      "      }\n",
      "    },\n",
      "    \"Comment\": \"Transfer and run Tomocupy\"\n",
      "  },\n",
      "  \"input_schema\": {},\n",
      "  \"flow_url\": \"https://flows.automate.globus.org/flows/b92cca75-becf-476e-9cb4-9b7aac1b8eb2\",\n",
      "  \"action_url\": \"https://flows.automate.globus.org/flows/b92cca75-becf-476e-9cb4-9b7aac1b8eb2\",\n",
      "  \"globus_auth_scope\": \"https://auth.globus.org/scopes/b92cca75-becf-476e-9cb4-9b7aac1b8eb2/flow_b92cca75_becf_476e_9cb4_9b7aac1b8eb2_user\",\n",
      "  \"globus_auth_scopes_by_RunAs\": null,\n",
      "  \"synchronous\": false,\n",
      "  \"log_supported\": true,\n",
      "  \"types\": [\n",
      "    \"Action\"\n",
      "  ],\n",
      "  \"api_version\": \"1.0\",\n",
      "  \"keywords\": [],\n",
      "  \"principal_urn\": \"urn:globus:auth:identity:b92cca75-becf-476e-9cb4-9b7aac1b8eb2\",\n",
      "  \"globus_auth_username\": \"b92cca75-becf-476e-9cb4-9b7aac1b8eb2@clients.auth.globus.org\",\n",
      "  \"created_at\": \"2024-05-07T16:54:28.441024+00:00\",\n",
      "  \"updated_at\": \"2024-05-07T16:54:28.441024+00:00\",\n",
      "  \"user_role\": \"flow_owner\",\n",
      "  \"flow_owner\": \"urn:globus:auth:identity:95278182-10a1-11e6-9c7e-7b385f033313\",\n",
      "  \"created_by\": \"urn:globus:auth:identity:95278182-10a1-11e6-9c7e-7b385f033313\",\n",
      "  \"flow_viewers\": [],\n",
      "  \"visible_to\": [],\n",
      "  \"flow_starters\": [],\n",
      "  \"runnable_by\": [],\n",
      "  \"flow_administrators\": [],\n",
      "  \"administered_by\": [],\n",
      "  \"subscription_id\": null,\n",
      "  \"dry_run\": false\n",
      "}\n",
      "Newly created flow with id:\n",
      "b92cca75-becf-476e-9cb4-9b7aac1b8eb2\n",
      "and scope:\n",
      "https://auth.globus.org/scopes/b92cca75-becf-476e-9cb4-9b7aac1b8eb2/flow_b92cca75_becf_476e_9cb4_9b7aac1b8eb2_user\n"
     ]
    }
   ],
   "source": [
    "flow = fc.create_flow(definition=flow_definition, title=\"Tomocupy flow\", input_schema={})\n",
    "flow_id = flow['id']\n",
    "print(flow)\n",
    "flow_scope = flow['globus_auth_scope']\n",
    "print(f'Newly created flow with id:\\n{flow_id}\\nand scope:\\n{flow_scope}')"
   ]
  },
  {
   "cell_type": "markdown",
   "id": "72ed205b",
   "metadata": {},
   "source": [
    "## Defining a Tomocupy function\n",
    "\n",
    "To run tomocupy via the flow we need to register a function with Globus Compute. Here we define and register this function."
   ]
  },
  {
   "cell_type": "code",
   "execution_count": 7,
   "id": "d28edc81",
   "metadata": {},
   "outputs": [],
   "source": [
    "import globus_compute_sdk\n",
    "gc = globus_compute_sdk.Client()"
   ]
  },
  {
   "cell_type": "markdown",
   "id": "1c3de22e",
   "metadata": {},
   "source": [
    "Define a function to call tomocupy.\n",
    "\n",
    "This is a simple wrapper function that uses subprocess to invoke a templated bash command to run tomocupy.\n",
    "\n",
    "Further postprocessing can be applied within this function. Any JSON returned here will be usable within the flow in subsequent steps."
   ]
  },
  {
   "cell_type": "code",
   "execution_count": 26,
   "id": "aeabdb3f",
   "metadata": {},
   "outputs": [],
   "source": [
    "def tomocupy_wrapper(filename, command=\"recon\", reconstruction_type=\"full\", \n",
    "                     rotation_axis=782.5, nsino_per_chunk=4):\n",
    "    import subprocess\n",
    "    \n",
    "    cmd = f\"tomocupy {command} --cores 8 --file-name {filename} --reconstruction-type {reconstruction_type} --rotation-axis {rotation_axis} --nsino-per-chunk {nsino_per_chunk} \" \n",
    "    return cmd\n",
    "    res = subprocess.run(cmd.split(\" \"), stdout=subprocess.PIPE, stderr=subprocess.PIPE)\n",
    "    \n",
    "    return res.returncode, res.stdout.decode(\"utf-8\"), res.stderr.decode(\"utf-8\")"
   ]
  },
  {
   "cell_type": "markdown",
   "id": "7c54ef7b",
   "metadata": {},
   "source": [
    "Register the function with Compute. "
   ]
  },
  {
   "cell_type": "code",
   "execution_count": 27,
   "id": "b9c249df",
   "metadata": {},
   "outputs": [],
   "source": [
    "tomo_func = gc.register_function(tomocupy_wrapper)"
   ]
  },
  {
   "cell_type": "code",
   "execution_count": 28,
   "id": "d926ebdc",
   "metadata": {},
   "outputs": [
    {
     "data": {
      "text/plain": [
       "'653f6403-ce40-4af5-907a-af3c46ece376'"
      ]
     },
     "execution_count": 28,
     "metadata": {},
     "output_type": "execute_result"
    }
   ],
   "source": [
    "tomo_func"
   ]
  },
  {
   "cell_type": "markdown",
   "id": "51366075",
   "metadata": {},
   "source": [
    "### Testing the function\n",
    "\n",
    "Test the function by running it via Globus Compute. \n",
    "\n",
    "**Note, this uses my personal compute endpoint, not a service account endpoint. Access to this endpoint is restricted and will not work for others.**"
   ]
  },
  {
   "cell_type": "code",
   "execution_count": 29,
   "id": "8669e7aa",
   "metadata": {},
   "outputs": [],
   "source": [
    "my_ep = '36d0b3c2-47a8-4465-8742-8296dc266b0b'\n",
    "gce = globus_compute_sdk.Executor(endpoint_id=my_ep)"
   ]
  },
  {
   "cell_type": "code",
   "execution_count": 30,
   "id": "39e36038",
   "metadata": {},
   "outputs": [],
   "source": [
    "fn = \"~/workspace/tomocupy_example/data/test_data.h5\""
   ]
  },
  {
   "cell_type": "code",
   "execution_count": 31,
   "id": "4436ee9f",
   "metadata": {},
   "outputs": [],
   "source": [
    "future = gce.submit_to_registered_function(args=[fn], function_id=tomo_func)"
   ]
  },
  {
   "cell_type": "code",
   "execution_count": 32,
   "id": "6b742eda",
   "metadata": {},
   "outputs": [
    {
     "data": {
      "text/plain": [
       "(1,\n",
       " '',\n",
       " 'Traceback (most recent call last):\\n  File \"/home/raf/miniconda3/envs/gladier2/bin/tomocupy\", line 7, in <module>\\n    from tomocupy.__main__ import main\\n  File \"/home/raf/miniconda3/envs/gladier2/lib/python3.11/site-packages/tomocupy/__init__.py\", line 55, in <module>\\n    from tomocupy.find_center import *\\n  File \"/home/raf/miniconda3/envs/gladier2/lib/python3.11/site-packages/tomocupy/find_center.py\", line 52, in <module>\\n    import cv2\\nImportError: libEGL.so.1: cannot open shared object file: No such file or directory\\n')"
      ]
     },
     "execution_count": 32,
     "metadata": {},
     "output_type": "execute_result"
    }
   ],
   "source": [
    "future.result()"
   ]
  },
  {
   "cell_type": "markdown",
   "id": "11b217f9",
   "metadata": {},
   "source": [
    "## Running the flow\n",
    "\n",
    "We can now specify input and start the flow."
   ]
  },
  {
   "cell_type": "code",
   "execution_count": 15,
   "id": "282b155f",
   "metadata": {},
   "outputs": [],
   "source": [
    "flow_input = {\n",
    "    \"input\": {\n",
    "      \"source\": {\n",
    "        \"id\": \"a17d7fac-ce06-4ede-8318-ad8dc98edd69\",\n",
    "        \"path\": \"/TOMOCUPY/data\"\n",
    "      },\n",
    "      \"destination\": {\n",
    "        \"id\": \"ed405b78-0c8d-11ef-82fc-57b5c7e2fa2b\",\n",
    "        \"path\": \"/~/workspace/tomocupy_example/data\"\n",
    "      },\n",
    "      \"recursive_tx\": True,\n",
    "      \"compute_endpoint_id\": my_ep,\n",
    "      \"compute_function_id\": tomo_func,\n",
    "      \"compute_function_kwargs\": {\n",
    "        \"command\": \"recon\",\n",
    "        \"reconstruction_type\": \"full\",\n",
    "        \"rotation_axis\": \"782.5\",\n",
    "        \"nsino_per_chunk\": 4,\n",
    "        \"filename\": fn\n",
    "      }\n",
    "    }\n",
    "}"
   ]
  },
  {
   "cell_type": "code",
   "execution_count": 16,
   "id": "a5ed3a9d-92c2-493f-a02c-a7bb3ee0ba24",
   "metadata": {},
   "outputs": [
    {
     "name": "stdout",
     "output_type": "stream",
     "text": [
      "Please go to this URL and login:\n",
      "\n",
      "https://auth.globus.org/v2/oauth2/authorize?client_id=7ca21f4a-11de-4d97-8f84-cb66f7459981&redirect_uri=https%3A%2F%2Fauth.globus.org%2Fv2%2Fweb%2Fauth-code&scope=https%3A%2F%2Fauth.globus.org%2Fscopes%2Fb92cca75-becf-476e-9cb4-9b7aac1b8eb2%2Fflow_b92cca75_becf_476e_9cb4_9b7aac1b8eb2_user&state=_default&response_type=code&code_challenge=-yPhgL6f_5PDnK5q7E3OFlkdEE8jMsno3AJZZv3gCc4&code_challenge_method=S256&access_type=offline\n",
      "\n"
     ]
    },
    {
     "name": "stdin",
     "output_type": "stream",
     "text": [
      "Please enter the code here:  ibUvIClqIi12ZkcEJ7PIx3isMjRvqO\n"
     ]
    }
   ],
   "source": [
    "run_client = get_specific_flow_client(flow_id, CLIENT_ID)"
   ]
  },
  {
   "cell_type": "code",
   "execution_count": 17,
   "id": "f6b72db7",
   "metadata": {},
   "outputs": [
    {
     "name": "stdout",
     "output_type": "stream",
     "text": [
      "Flow action started with id: ec4c0c95-786d-4d97-80ed-fe22688e587b\n",
      "Monitor your flow here: https://app.globus.org/runs/ec4c0c95-786d-4d97-80ed-fe22688e587b\n",
      "Flow status: ACTIVE\n",
      "Flow status: ACTIVE\n",
      "Flow status: ACTIVE\n",
      "Flow status: SUCCEEDED\n"
     ]
    }
   ],
   "source": [
    "flow_action = run_client.run_flow(flow_input, label=\"Tomocupy run\", tags=[\"demo\", \"tomocupy\"])\n",
    "flow_run_id = flow_action['action_id']\n",
    "\n",
    "print(f'Flow action started with id: {flow_run_id}')\n",
    "\n",
    "print(f\"Monitor your flow here: https://app.globus.org/runs/{flow_run_id}\")\n",
    "\n",
    "flow_status = flow_action['status']\n",
    "while flow_status == 'ACTIVE':\n",
    "    time.sleep(10)\n",
    "    flow_action = fc.get_run(flow_run_id)\n",
    "    flow_status = flow_action['status']\n",
    "    print(f'Flow status: {flow_status}')"
   ]
  },
  {
   "cell_type": "code",
   "execution_count": 18,
   "id": "e3980bba",
   "metadata": {},
   "outputs": [
    {
     "data": {
      "text/plain": [
       "['tomocupy recon --cores 8 --file-name ~/workspace/tomocupy_example/data/test_data.h5 --reconstruction-type full --rotation-axis 782.5 --nsino-per-chunk 4 ']"
      ]
     },
     "execution_count": 18,
     "metadata": {},
     "output_type": "execute_result"
    }
   ],
   "source": [
    "flow_action['details']['output']['TomocupyOutput']['details']['result']"
   ]
  },
  {
   "cell_type": "markdown",
   "id": "4557ffc7",
   "metadata": {},
   "source": [
    "## Attaching an input schema\n",
    "\n",
    "We can use a JSON input schema to both generate the Web interface and provide additional handrails when starting the flow. Here we define the schema and update the flow to include it.\n",
    "\n",
    "Example schema's can be found here: https://github.com/globus/globus-flows-trigger-examples"
   ]
  },
  {
   "cell_type": "code",
   "execution_count": 23,
   "id": "5ccad565",
   "metadata": {},
   "outputs": [],
   "source": [
    "schema = {\n",
    "    \"required\": [\n",
    "        \"input\"\n",
    "    ],\n",
    "    \"properties\": {\n",
    "        \"input\": {\n",
    "            \"type\": \"object\",\n",
    "            \"required\": [\n",
    "                \"source\",\n",
    "                \"destination\",\n",
    "                \"recursive_tx\",\n",
    "                \"compute_endpoint_id\",\n",
    "                \"compute_function_id\",\n",
    "                \"compute_function_kwargs\"\n",
    "            ],\n",
    "            \"properties\": {\n",
    "                \"source\": {\n",
    "                    \"type\": \"object\",\n",
    "                    \"title\": \"Select source collection and path\",\n",
    "                    \"description\": \"The source collection and path (path MUST end with a slash)\",\n",
    "                    \"format\": \"globus-collection\",\n",
    "                    \"required\": [\n",
    "                        \"id\",\n",
    "                        \"path\"\n",
    "                    ],\n",
    "                    \"properties\": {\n",
    "                        \"id\": {\n",
    "                            \"type\": \"string\",\n",
    "                            \"format\": \"uuid\"\n",
    "                        },\n",
    "                        \"path\": {\n",
    "                            \"type\": \"string\"\n",
    "                        }\n",
    "                    },\n",
    "                    \"additionalProperties\": False\n",
    "                },\n",
    "                \"destination\": {\n",
    "                    \"type\": \"object\",\n",
    "                    \"title\": \"Select destination collection and path\",\n",
    "                    \"description\": \"The destination collection and path (path MUST end with a slash); default collection is 'Globus Tutorials on ALCF Eagle'\",\n",
    "                    \"format\": \"globus-collection\",\n",
    "                    \"required\": [\n",
    "                        \"id\",\n",
    "                        \"path\"\n",
    "                    ],\n",
    "                    \"properties\": {\n",
    "                        \"id\": {\n",
    "                            \"type\": \"string\",\n",
    "                            \"format\": \"uuid\"\n",
    "                        },\n",
    "                        \"path\": {\n",
    "                            \"type\": \"string\"\n",
    "                        }\n",
    "                    },\n",
    "                    \"additionalProperties\": False\n",
    "                },\n",
    "                \"recursive_tx\": {\n",
    "                    \"type\": \"boolean\",\n",
    "                    \"title\": \"Recursive transfer\",\n",
    "                    \"description\": \"Whether or not to transfer recursively, must be true when transferring a directory.\",\n",
    "                    \"default\": True,\n",
    "                    \"additionalProperties\": False\n",
    "                },\n",
    "                \"compute_endpoint_id\": {\n",
    "                    \"type\": \"string\",\n",
    "                    \"format\": \"uuid\",                        \n",
    "                    \"title\": \"Globus Compute Endpoint ID\",\n",
    "                    \"default\": my_ep,\n",
    "                    \"description\": \"The UUID of the Globus Compute endpoint where Tomocupy will run\",\n",
    "                    \"additionalProperties\": False\n",
    "                },\n",
    "                \"compute_function_id\": {\n",
    "                    \"type\": \"string\",\n",
    "                    \"format\": \"uuid\",                        \n",
    "                    \"title\": \"Globus Compute Function ID\",\n",
    "                    \"default\": tomo_func,\n",
    "                    \"description\": \"The UUID of the function to invoke; must be registered with the Globus Compute service\",\n",
    "                    \"additionalProperties\": False\n",
    "                },\n",
    "                \"compute_function_kwargs\": {\n",
    "                    \"type\": \"object\",\n",
    "                    \"title\": \"Function Inputs\",\n",
    "                    \"description\": \"Inputs to pass to the function\",\n",
    "                    \"required\": [\n",
    "                        \"filename\",\n",
    "                        \"command\",\n",
    "                        \"reconstruction_type\",\n",
    "                        \"rotation_axis\",\n",
    "                        \"nsino_per_chunk\"\n",
    "                    ],\n",
    "                    \"properties\": {\n",
    "                        \"filename\": {\n",
    "                            \"type\": \"string\",\n",
    "                        },\n",
    "                        \"command\": {\n",
    "                            \"type\" : \"string\",\n",
    "                            \"description\": \"Reconstruction command: recon, recon_steps\",\n",
    "                            \"default\": \"recon\",\n",
    "                            \"enum\" : [\n",
    "                                \"recon\",\n",
    "                                \"recon_steps\"\n",
    "                            ]\n",
    "                        },\n",
    "                        \"reconstruction_type\": {\n",
    "                            \"type\": \"string\",\n",
    "                            \"description\": \"Reconstruction type: full, try\",\n",
    "                            \"default\": \"full\",\n",
    "                            \"enum\": [\n",
    "                                \"full\", \n",
    "                                \"try\"\n",
    "                            ]\n",
    "                        },\n",
    "                        \"rotation_axis\": {\n",
    "                            \"type\": \"string\",\n",
    "                            \"default\": \"782.5\"\n",
    "                        },\n",
    "                        \"nsino_per_chunk\": {\n",
    "                            \"type\": \"integer\",\n",
    "                            \"default\": 4\n",
    "                        },\n",
    "                    },\n",
    "                    \"additionalProperties\": False\n",
    "                }\n",
    "            },\n",
    "            \"additionalProperties\": False\n",
    "        },    \n",
    "    },\n",
    "    \"additionalProperties\": False\n",
    "}"
   ]
  },
  {
   "cell_type": "code",
   "execution_count": 24,
   "id": "d2e2b247",
   "metadata": {
    "scrolled": true
   },
   "outputs": [
    {
     "data": {
      "text/plain": [
       "GlobusHTTPResponse({\"id\": \"b92cca75-becf-476e-9cb4-9b7aac1b8eb2\", \"definition\": {\"Comment\": \"Transfer and run Tomocupy\", \"StartAt\": \"TransferFiles\", \"States\": {\"TransferFiles\": {\"Comment\": \"Transfer files\", \"Type\": \"Action\", \"ActionUrl\": \"https://actions.automate.globus.org/transfer/transfer\", \"Parameters\": {\"source_endpoint_id.$\": \"$.input.source.id\", \"destination_endpoint_id.$\": \"$.input.destination.id\", \"transfer_items\": [{\"source_path.$\": \"$.input.source.path\", \"destination_path.$\": \"$.input.destination.path\", \"recursive.$\": \"$.input.recursive_tx\"}]}, \"ResultPath\": \"$.TransferFiles\", \"WaitTime\": 300, \"Next\": \"Tomocupy\"}, \"Tomocupy\": {\"Comment\": \"Tomocupy\", \"Type\": \"Action\", \"ActionUrl\": \"https://compute.actions.globus.org/fxap\", \"Parameters\": {\"endpoint.$\": \"$.input.compute_endpoint_id\", \"function.$\": \"$.input.compute_function_id\", \"kwargs.$\": \"$.input.compute_function_kwargs\"}, \"ResultPath\": \"$.TomocupyOutput\", \"WaitTime\": 600, \"End\": true}}}, \"input_schema\": {\"required\": [\"input\"], \"properties\": {\"input\": {\"type\": \"object\", \"required\": [\"source\", \"destination\", \"recursive_tx\", \"compute_endpoint_id\", \"compute_function_id\", \"compute_function_kwargs\"], \"properties\": {\"source\": {\"type\": \"object\", \"title\": \"Select source collection and path\", \"description\": \"The source collection and path (path MUST end with a slash)\", \"format\": \"globus-collection\", \"required\": [\"id\", \"path\"], \"properties\": {\"id\": {\"type\": \"string\", \"format\": \"uuid\"}, \"path\": {\"type\": \"string\"}}, \"additionalProperties\": false, \"propertyOrder\": [\"id\", \"path\"]}, \"destination\": {\"type\": \"object\", \"title\": \"Select destination collection and path\", \"description\": \"The destination collection and path (path MUST end with a slash); default collection is 'Globus Tutorials on ALCF Eagle'\", \"format\": \"globus-collection\", \"required\": [\"id\", \"path\"], \"properties\": {\"id\": {\"type\": \"string\", \"format\": \"uuid\"}, \"path\": {\"type\": \"string\"}}, \"additionalProperties\": false, \"propertyOrder\": [\"id\", \"path\"]}, \"recursive_tx\": {\"type\": \"boolean\", \"title\": \"Recursive transfer\", \"description\": \"Whether or not to transfer recursively, must be true when transferring a directory.\", \"default\": true, \"additionalProperties\": false}, \"compute_endpoint_id\": {\"type\": \"string\", \"format\": \"uuid\", \"title\": \"Globus Compute Endpoint ID\", \"default\": \"36d0b3c2-47a8-4465-8742-8296dc266b0b\", \"description\": \"The UUID of the Globus Compute endpoint where Tomocupy will run\", \"additionalProperties\": false}, \"compute_function_id\": {\"type\": \"string\", \"format\": \"uuid\", \"title\": \"Globus Compute Function ID\", \"default\": \"ab166cd1-ab94-4db7-8c59-4f5aba1ca2ed\", \"description\": \"The UUID of the function to invoke; must be registered with the Globus Compute service\", \"additionalProperties\": false}, \"compute_function_kwargs\": {\"type\": \"object\", \"title\": \"Function Inputs\", \"description\": \"Inputs to pass to the function\", \"required\": [\"filename\", \"command\", \"reconstruction_type\", \"rotation_axis\", \"nsino_per_chunk\"], \"properties\": {\"filename\": {\"type\": \"string\"}, \"command\": {\"type\": \"string\", \"description\": \"Reconstruction command: recon, recon_steps\", \"default\": \"recon\", \"enum\": [\"recon\", \"recon_steps\"]}, \"reconstruction_type\": {\"type\": \"string\", \"description\": \"Reconstruction type: full, try\", \"default\": \"full\", \"enum\": [\"full\", \"try\"]}, \"rotation_axis\": {\"type\": \"string\", \"default\": \"782.5\"}, \"nsino_per_chunk\": {\"type\": \"integer\", \"default\": 4}}, \"additionalProperties\": false, \"propertyOrder\": [\"filename\", \"command\", \"reconstruction_type\", \"rotation_axis\", \"nsino_per_chunk\"]}}, \"additionalProperties\": false, \"propertyOrder\": [\"source\", \"destination\", \"recursive_tx\", \"compute_endpoint_id\", \"compute_function_id\", \"compute_function_kwargs\"]}}, \"additionalProperties\": false, \"propertyOrder\": [\"input\"]}, \"globus_auth_scope\": \"https://auth.globus.org/scopes/b92cca75-becf-476e-9cb4-9b7aac1b8eb2/flow_b92cca75_becf_476e_9cb4_9b7aac1b8eb2_user\", \"synchronous\": false, \"log_supported\": true, \"types\": [\"Action\"], \"api_version\": \"1.0\", \"title\": \"Tomocupy flow\", \"subtitle\": \"\", \"description\": \"\", \"keywords\": [], \"principal_urn\": \"urn:globus:auth:identity:b92cca75-becf-476e-9cb4-9b7aac1b8eb2\", \"globus_auth_username\": \"b92cca75-becf-476e-9cb4-9b7aac1b8eb2@clients.auth.globus.org\", \"created_at\": \"2024-05-07T16:54:28.441024+00:00\", \"updated_at\": \"2024-05-07T16:56:35.842075+00:00\", \"user_role\": \"flow_owner\", \"created_by\": \"urn:globus:auth:identity:95278182-10a1-11e6-9c7e-7b385f033313\", \"visible_to\": [], \"runnable_by\": [], \"administered_by\": [], \"action_url\": \"https://flows.automate.globus.org/flows/b92cca75-becf-476e-9cb4-9b7aac1b8eb2\", \"flow_owner\": \"urn:globus:auth:identity:95278182-10a1-11e6-9c7e-7b385f033313\", \"flow_viewers\": [], \"flow_starters\": [], \"flow_administrators\": []})"
      ]
     },
     "execution_count": 24,
     "metadata": {},
     "output_type": "execute_result"
    }
   ],
   "source": [
    "fc.update_flow(flow_id, definition=flow_definition, input_schema=schema)"
   ]
  },
  {
   "cell_type": "markdown",
   "id": "79aec70b",
   "metadata": {},
   "source": [
    "## Try it!"
   ]
  },
  {
   "cell_type": "code",
   "execution_count": 25,
   "id": "e3dd4460",
   "metadata": {},
   "outputs": [
    {
     "name": "stdout",
     "output_type": "stream",
     "text": [
      "https://app.globus.org/flows/b92cca75-becf-476e-9cb4-9b7aac1b8eb2\n"
     ]
    }
   ],
   "source": [
    "print(f'https://app.globus.org/flows/{flow_id}')"
   ]
  },
  {
   "cell_type": "markdown",
   "id": "ae5fceb1",
   "metadata": {},
   "source": [
    "## Gladier toolkit\n",
    "\n",
    "We have developed a toolkit to streamline and support the development of complex flows. The Gladier toolkit (https://gladier.readthedocs.io/) provides helper functions to automatically re-register compute functions, cache flows, manage inputs, and generate JSON flow definitions.\n",
    "\n",
    "The upshot of the Gladier toolkit is that your flow defintion would look something like:\n",
    "\n",
    "```@generate_flow_definition\n",
    "class TomocupyFlow(GladierBaseClient):\n",
    "    gladier_tools = [\n",
    "        'gladier_tools.globus.Transfer',\n",
    "        'gladier_tools.posix.ShellCMDTool',\n",
    "        'gladier_tools.publish.PublishV2',\n",
    "    ]\n",
    "```"
   ]
  },
  {
   "cell_type": "code",
   "execution_count": null,
   "id": "149a2cdf",
   "metadata": {},
   "outputs": [],
   "source": []
  }
 ],
 "metadata": {
  "kernelspec": {
   "display_name": "Python 3 (ipykernel)",
   "language": "python",
   "name": "python3"
  },
  "language_info": {
   "codemirror_mode": {
    "name": "ipython",
    "version": 3
   },
   "file_extension": ".py",
   "mimetype": "text/x-python",
   "name": "python",
   "nbconvert_exporter": "python",
   "pygments_lexer": "ipython3",
   "version": "3.11.9"
  }
 },
 "nbformat": 4,
 "nbformat_minor": 5
}
